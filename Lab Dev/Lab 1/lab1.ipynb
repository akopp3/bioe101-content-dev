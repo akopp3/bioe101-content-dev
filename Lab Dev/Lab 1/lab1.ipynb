{
 "cells": [
  {
   "cell_type": "markdown",
   "metadata": {},
   "source": [
    "# BioE 101 Lab 1 - Analyzing Frequency Spectrums#\n",
    "\n",
    "## Objectives: ##\n",
    "\n",
    "- Learn how to program with Python (or at least become more familiar with Python)\n",
    "\n",
    "- Use Python to see your voice with your computer's microphone in the time and frequency domain\n",
    "\n",
    "- Use an Arduino with a function generator to sample waveforms\n",
    "\n",
    "- Observe aliasing and quantization error in sampled data\n",
    "\n",
    "- Estimate noise and SNR from sampled data\n",
    "\n",
    "- Build an algorithm with Python to distinguish you and your partner’s voice\n",
    "\n",
    "\n"
   ]
  },
  {
   "cell_type": "markdown",
   "metadata": {},
   "source": [
    "## Part 1. Displaying signals in time and frequency domain with Python\n",
    "\n",
    "We're going to generate waveform inputs into the Arduino and view it in the time and frequency domains. The Arduino has a 10-bit ADC built into it. That puts a limit on how small our input can be. ADCs take in an analog voltage and outputs a \"code\" that goes from $0$ to $2^{B}$ where $B$ is the number of bits. In the Arduino's case, that means that the ADCs will read in a voltage that goes from 0V to 3.3V and map that to $0$ to $1023$.\n",
    "\n",
    "**Question 1**: If our ADC is 10 bits, what is the smallest voltage difference we can observe between any two points?"
   ]
  },
  {
   "cell_type": "markdown",
   "metadata": {},
   "source": [
    "### Learn to plot a function in Python ###\n",
    "Run the cell below to import some necessary libraries. Numpy is used for scientific-computing (i.e., lots of linear algebra and DSP). Matplotlib is a plotting library very similar to how matplot makes its plots."
   ]
  },
  {
   "cell_type": "code",
   "execution_count": 2,
   "metadata": {},
   "outputs": [],
   "source": [
    "import numpy as np # import numpy to create functions\n",
    "import matplotlib.pyplot as plt # import the plotting library\n",
    "# set matplotlib to plot the graphs inside the notebook\n",
    "%matplotlib inline "
   ]
  },
  {
   "cell_type": "markdown",
   "metadata": {},
   "source": [
    "Run the cell below to generate a sine wave. Feel free to play around with the values! A little run-down of what's going on:\n",
    "- np.linspace(a,b,n) creates an a n-size array with equally spaced values going from a to b\n",
    "- np.sin(x) creates an array that evaluates sin at every value in the array of x\n",
    "- plt.plot(x,y) plots y with respect to x"
   ]
  },
  {
   "cell_type": "code",
   "execution_count": 5,
   "metadata": {},
   "outputs": [
    {
     "data": {
      "text/plain": [
       "[<matplotlib.lines.Line2D at 0x18eeb41ef98>]"
      ]
     },
     "execution_count": 5,
     "metadata": {},
     "output_type": "execute_result"
    },
    {
     "data": {
      "image/png": "[encoded data removed]",
      "text/plain": [
       "<matplotlib.figure.Figure at 0x18eeb0f3dd8>"
      ]
     },
     "metadata": {},
     "output_type": "display_data"
    }
   ],
   "source": [
    "t = np.linspace(0, 1e-3, 1001) # create an array from 0 to 1000, with 1001 samples\n",
    "f = np.sin(2*np.pi*1e3*t) # create a 1kHz sine function evaluated at all values of t\n",
    "plt.plot(t,f)"
   ]
  },
  {
   "cell_type": "markdown",
   "metadata": {},
   "source": [
    "### Observe a sine wave in time and frequency domains\n",
    "\n",
    "Before hooking up the function generator to the Arduino, always check the waveform with an oscilloscope to make sure the output is what you want.\n",
    "\n",
    "Using the same procedure as the end of lab 1: \n",
    "- Connect the function generator to the A0 and GND pins of the Arduino and upload the send_serial.ino sketch to the Arduino board. \n",
    "- Set the sine wave to be 50 Hz with 400mVpp and 1.5 V DC offset. \n",
    "    - **Any waveform is okay as long as none of the waveform dips below 0V or goes above 3.3V**\n",
    "- Turn on the function generator and view the serial plotter using Tools->Serial Plotter. You should see the sine wave.\n",
    "\n",
    "The Python code below is an introduction on how to use \"fft\" and \"ifft\" fucntion form \"scipy.fftpack\" to do fourier transfrom and inverse fourier transform. In the given Arduino file, you already send the file to Serial after each run. Here, we import the data from Serial and do Fourier Analysis for it. After you run the Arduino file, please run the code below.\n",
    "\n",
    "**Things to check before running:**\n",
    "- Make sure the interval in the Arduino sketch is 1000\n",
    "- Make sure your waveform is okay and your equipment works\n",
    "- Make sure you know the COM (or /dev/tty if on Linux/Mac) port of your Arduino (explained in the next block)\n",
    "\n",
    "Instead of the Serial Plotter, we will now be using the Python code below to plot and analyze our signals. The code below imports the necessary Python libraries:"
   ]
  },
  {
   "cell_type": "code",
   "execution_count": 6,
   "metadata": {
    "collapsed": true
   },
   "outputs": [],
   "source": [
    "# allows plots to be plotted right below the cell when run\n",
    "%matplotlib inline \n",
    "import serial # the library for reading from serial com ports\n",
    "import numpy as np # naming convention for numpy library\n",
    "import matplotlib.pyplot as plt # naming convention for matplotlib\n",
    "from scipy.fftpack import fft, ifft # import discrete fourier transform and its inverse"
   ]
  },
  {
   "cell_type": "markdown",
   "metadata": {},
   "source": [
    "Before proceeding, find the serial port for your arduino. On Windows, check Device Manager and go under Ports and find the Arduino COM Port. On Macs, go to the terminal and type ls /dev/tty.\\* and look for the port corresponding to the Arduino.\n",
    "\n",
    "Also make sure to close the Serial monitor or plotter since that is accessing the serial port and only one program can access the serial port at a time.\n",
    "\n",
    "Now, run the block below to define a sampling function that samples your serial data for 3 seconds (you can edit this to to sample for any arbitrary amount of time)."
   ]
  },
  {
   "cell_type": "code",
   "execution_count": 7,
   "metadata": {},
   "outputs": [],
   "source": [
    "def sample_arduino():\n",
    "    # preamble to set up serial communications\n",
    "    device = \"COM9\" # com port of Arduino <- CHANGE THIS TO THE ONE YOU FOUND\n",
    "    baud = 115200\n",
    "    ser = serial.Serial(device, baud, timeout=10)\n",
    "\n",
    "    # read in every line of serial code and throw away corrupt data\n",
    "    def read_serial_data(N):\n",
    "        raw_data = []\n",
    "        while (len(raw_data) < N+10): \n",
    "            data = ser.readline()\n",
    "            raw_data.append(data)\n",
    "        data = []\n",
    "        for i in raw_data:\n",
    "            try:\n",
    "                data.append(float(i))\n",
    "            except:\n",
    "                continue\n",
    "        return data\n",
    "    raw_data = read_serial_data(3000) # <- Adjust this line to read in more/less data\n",
    "    ser.close()\n",
    "    return raw_data\n"
   ]
  },
  {
   "cell_type": "markdown",
   "metadata": {},
   "source": [
    "Run the following block of code to sample and plot your waveform:"
   ]
  },
  {
   "cell_type": "code",
   "execution_count": 21,
   "metadata": {
    "scrolled": true
   },
   "outputs": [
    {
     "data": {
      "text/plain": [
       "[<matplotlib.lines.Line2D at 0x667e780>]"
      ]
     },
     "execution_count": 21,
     "metadata": {},
     "output_type": "execute_result"
    },
    {
     "data": {
      "image/png": "[encoded data removed]",
      "text/plain": [
       "<matplotlib.figure.Figure at 0x662b0b8>"
      ]
     },
     "metadata": {},
     "output_type": "display_data"
    }
   ],
   "source": [
    "signal = sample_arduino()\n",
    "plt.plot(signal[100:200]) # change the indices to zoom in/out in time"
   ]
  },
  {
   "cell_type": "markdown",
   "metadata": {},
   "source": [
    "To take a fourier transform of the above signal and analyze its frequency spectrum, run the code below:"
   ]
  },
  {
   "cell_type": "code",
   "execution_count": 24,
   "metadata": {},
   "outputs": [
    {
     "data": {
      "text/plain": [
       "[<matplotlib.lines.Line2D at 0x927d940>]"
      ]
     },
     "execution_count": 24,
     "metadata": {},
     "output_type": "execute_result"
    },
    {
     "data": {
      "image/png": "[encoded data removed]",
      "text/plain": [
       "<matplotlib.figure.Figure at 0x7bb0f98>"
      ]
     },
     "metadata": {},
     "output_type": "display_data"
    }
   ],
   "source": [
    "dft = fft(signal) # calculate fourier transform\n",
    "fs = 1000 # sampling rate\n",
    "N = len(dft) # length of discrete fourier transform\n",
    "freqs = [i*fs/N for i in range(N)] # convert from dft frequencies to Hz\n",
    "plt.plot(freqs[2:1000], np.abs(dft[2:1000])) # change the indices to zoom in/out in frequency"
   ]
  },
  {
   "cell_type": "markdown",
   "metadata": {},
   "source": [
    "**Question 2**: Now try this with increasing frequencies (suggestion: step 50 Hz at a time starting at 50 Hz). At what point does the frequency not match your input? \n",
    "\n",
    "**Question 3**: What property of LTI systems does this violate? Why is sampling not an LTI operator?"
   ]
  },
  {
   "cell_type": "markdown",
   "metadata": {
    "collapsed": true
   },
   "source": [
    "## Part 2: Microphone ##\n",
    "\n",
    "In this section, you will connect a simple microphone to your Arduino and measure noise and voice signal. You will then develop an algorithm to distinguish between your and your partner's voices.\n",
    "\n",
    "- Connect ground and 5V from a power supply to the microphone GND and VCC pins (use a breadboard). Connect the same ground node to the ground of the arduino and the OUT pin to A0 of the arduino. Check that your microphone works with either an oscilloscope or the arudino serial plotter.\n",
    "\n",
    "- If your voice isn't getting picked up, try getting a screwdriver and twist the knob on the back of the microphone to increase the gain of the built-in amplifier\n",
    "\n",
    "- Now run the blocks below and take turns sampling each other's voices.\n",
    "\n",
    "While speaking into the microphone, make sure to be loud and clear. Try things like saying a specific word or humming a tune!"
   ]
  },
  {
   "cell_type": "code",
   "execution_count": null,
   "metadata": {},
   "outputs": [],
   "source": [
    "signal = sample_arduino()\n",
    "print(\"Partner 1\")\n",
    "plt.figure()\n",
    "plt.plot(signal[100:200]) # change the indices to zoom in/out in time\n",
    "plt.figure()\n",
    "dft1 = fft(signal)\n",
    "fs = 1000\n",
    "N = len(dft1)\n",
    "freqs = [i*fs/N for i in range(N)]\n",
    "plt.plot(freqs[2:1000], np.abs(dft1[2:1000])) # change the indices to zoom in/out in frequency\n",
    "\n",
    "\n",
    "# SAVE PARTNER 1 DATA #\n",
    "partner_1_ft = np.abs(dft1[2:1000])"
   ]
  },
  {
   "cell_type": "code",
   "execution_count": null,
   "metadata": {
    "collapsed": true
   },
   "outputs": [],
   "source": [
    "signal = sample_arduino()\n",
    "print(\"Partner 2\")\n",
    "plt.figure()\n",
    "plt.plot(signal[100:200]) # change the indices to zoom in/out in time\n",
    "plt.figure()\n",
    "dft2 = fft(signal)\n",
    "fs = 1000\n",
    "N = len(dft2)\n",
    "freqs = [i*fs/N for i in range(N)]\n",
    "plt.plot(freqs[2:1000], np.abs(dft2[2:1000])) # change the indices to zoom in/out in frequency\n",
    "\n",
    "\n",
    "# SAVE PARTNER 2 DATA #\n",
    "partner_2_ft = np.abs(dft2[2:1000])"
   ]
  },
  {
   "cell_type": "code",
   "execution_count": null,
   "metadata": {
    "collapsed": true
   },
   "outputs": [],
   "source": [
    "signal = sample_arduino()\n",
    "print(\"Partner 3\")\n",
    "plt.figure()\n",
    "plt.plot(signal[100:200]) # change the indices to zoom in/out in time\n",
    "plt.figure()\n",
    "dft3 = fft(signal)\n",
    "fs = 1000\n",
    "N = len(dft3)\n",
    "freqs = [i*fs/N for i in range(N)]\n",
    "plt.plot(freqs[2:1000], np.abs(dft3[2:1000])) # change the indices to zoom in/out in frequency\n",
    "\n",
    "\n",
    "# SAVE PARTNER 3 DATA #\n",
    "partner_3_ft = np.abs(dft3[2:1000])"
   ]
  },
  {
   "cell_type": "markdown",
   "metadata": {},
   "source": [
    "** Question 4**: How clean are the voice samples? What kinds of noises/interferences are present?"
   ]
  },
  {
   "cell_type": "markdown",
   "metadata": {},
   "source": [
    "**Bonus Question**: Now that you've stored all of your group members' voices, create a program that takes in a voice sample and outputs the person whose voice matches it the most. (Hint: there's an algorithm called cross-correlation that calculates the similarity between two signals. You can use np.correlate(partner_1_ft, partner_2_ft) to compare two voices)"
   ]
  }
 ],
 "metadata": {
  "anaconda-cloud": {},
  "kernelspec": {
   "display_name": "Python 3",
   "language": "python",
   "name": "python3"
  },
  "language_info": {
   "codemirror_mode": {
    "name": "ipython",
    "version": 3
   },
   "file_extension": ".py",
   "mimetype": "text/x-python",
   "name": "python",
   "nbconvert_exporter": "python",
   "pygments_lexer": "ipython3",
   "version": "3.6.3"
  }
 },
 "nbformat": 4,
 "nbformat_minor": 1
}
