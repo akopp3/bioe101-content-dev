{
 "cells": [
  {
   "cell_type": "code",
   "execution_count": 63,
   "metadata": {
    "collapsed": true
   },
   "outputs": [],
   "source": [
    "import matplotlib.pyplot as plt\n",
    "import numpy as np\n",
    "import pyaudio\n",
    "from pyqtgraph.Qt import QtGui, QtCore\n",
    "import pyqtgraph as pg\n",
    "import struct\n",
    "from scipy.fftpack import fft\n",
    "import sys\n",
    "import time\n",
    "import serial\n",
    "\n",
    "%matplotlib tk"
   ]
  },
  {
   "cell_type": "code",
   "execution_count": 61,
   "metadata": {
    "collapsed": true
   },
   "outputs": [],
   "source": [
    "class AudioStream(object):\n",
    "    def __init__(self):\n",
    "\n",
    "        # stream constants\n",
    "        self.CHUNK = 1024 * 4\n",
    "        self.FORMAT = pyaudio.paInt16\n",
    "        self.CHANNELS = 1\n",
    "        self.RATE = 44100\n",
    "        self.pause = False\n",
    "\n",
    "        # stream object\n",
    "        self.p = pyaudio.PyAudio()\n",
    "        self.stream = self.p.open(\n",
    "            format=self.FORMAT,\n",
    "            channels=self.CHANNELS,\n",
    "            rate=self.RATE,\n",
    "            input=True,\n",
    "            output=True,\n",
    "            frames_per_buffer=self.CHUNK,\n",
    "        )\n",
    "        self.init_plots()\n",
    "        self.start_plot()\n",
    "\n",
    "    def init_plots(self):\n",
    "\n",
    "        # x variables for plotting\n",
    "        x = np.arange(0, 2 * self.CHUNK, 2)\n",
    "        xf = np.linspace(0, self.RATE, self.CHUNK)\n",
    "\n",
    "        # create matplotlib figure and axes\n",
    "        self.fig, (ax1, ax2) = plt.subplots(2, figsize=(15, 7))\n",
    "        self.fig.canvas.mpl_connect('button_press_event', self.onClick)\n",
    "\n",
    "        # create a line object with random data\n",
    "        self.line, = ax1.plot(x, np.random.rand(self.CHUNK), '-', lw=2)\n",
    "\n",
    "        # create semilogx line for spectrum\n",
    "        self.line_fft, = ax2.plot(\n",
    "            xf, np.random.rand(self.CHUNK), '-', lw=2)\n",
    "\n",
    "        # format waveform axes\n",
    "        ax1.set_title('Audio Waveform and Spectrum')\n",
    "        ax1.set_xlabel('samples')\n",
    "        ax1.set_ylabel('volume')\n",
    "        ax1.set_ylim(0, 255)\n",
    "        ax1.set_xlim(0, 2 * self.CHUNK)\n",
    "        plt.setp(\n",
    "            ax1, yticks=[0, 128, 255],\n",
    "            xticks=[0, self.CHUNK, 2 * self.CHUNK],\n",
    "        )\n",
    "        plt.setp(ax2, yticks=[0, 1],)\n",
    "\n",
    "        # format spectrum axes\n",
    "        ax2.set_xlabel('freq (Hz)')\n",
    "        ax2.set_ylabel('Energy (normalized)')\n",
    "        ax2.set_xlim(20, 5e3)\n",
    "\n",
    "        # show axes\n",
    "        thismanager = plt.get_current_fig_manager()\n",
    "#         thismanager.window.setGeometry(5, 120, 1910, 1070)\n",
    "        plt.show(block=False)\n",
    "\n",
    "    def start_plot(self):\n",
    "\n",
    "        print('stream started')\n",
    "        frame_count = 0\n",
    "        start_time = time.time()\n",
    "        try:\n",
    "            while not self.pause:\n",
    "                data = self.stream.read(self.CHUNK)\n",
    "                data_int = struct.unpack(str(2 * self.CHUNK) + 'B', data)\n",
    "                data_np = np.array(data_int, dtype='b')[::2] + 128\n",
    "\n",
    "                self.line.set_ydata(data_np)\n",
    "\n",
    "                # compute FFT and update line\n",
    "                yf = fft(data_int)\n",
    "                self.line_fft.set_ydata(\n",
    "                    np.abs(yf[0:self.CHUNK]) / (128 * self.CHUNK))\n",
    "\n",
    "                # update figure canvas\n",
    "                self.fig.canvas.draw()\n",
    "                self.fig.canvas.flush_events()\n",
    "                frame_count += 1\n",
    "        except:\n",
    "            self.fr = frame_count / (time.time() - start_time)\n",
    "            print('average frame rate = {:.0f} FPS'.format(self.fr))\n",
    "            self.exit_app()\n",
    "\n",
    "    def exit_app(self):\n",
    "        print('stream closed')\n",
    "        self.p.close(self.stream)\n",
    "\n",
    "    def onClick(self, event):\n",
    "        self.pause = True"
   ]
  },
  {
   "cell_type": "code",
   "execution_count": 62,
   "metadata": {},
   "outputs": [
    {
     "name": "stdout",
     "output_type": "stream",
     "text": [
      "stream started\n",
      "average frame rate = 1 FPS\n",
      "stream closed\n"
     ]
    },
    {
     "data": {
      "text/plain": [
       "<__main__.AudioStream at 0x192d0df70b8>"
      ]
     },
     "execution_count": 62,
     "metadata": {},
     "output_type": "execute_result"
    }
   ],
   "source": [
    "AudioStream()"
   ]
  },
  {
   "cell_type": "code",
   "execution_count": 126,
   "metadata": {},
   "outputs": [],
   "source": [
    "ser = serial.Serial('COM12', 115200)\n",
    "\n",
    "class SerialStream(object):\n",
    "    def __init__(self):\n",
    "\n",
    "        # stream constants\n",
    "        self.CHUNK = 256\n",
    "        self.FORMAT = pyaudio.paInt16\n",
    "        self.CHANNELS = 1\n",
    "        self.RATE = 1000\n",
    "        self.pause = False\n",
    "\n",
    "        # stream object\n",
    "        self.p = pyaudio.PyAudio()\n",
    "        self.stream = self.p.open(\n",
    "            format=self.FORMAT,\n",
    "            channels=self.CHANNELS,\n",
    "            rate=self.RATE,\n",
    "            input=True,\n",
    "            output=True,\n",
    "            frames_per_buffer=self.CHUNK,\n",
    "        )\n",
    "        self.init_plots()\n",
    "        self.start_plot()\n",
    "\n",
    "    def init_plots(self):\n",
    "\n",
    "        # x variables for plotting\n",
    "        x = np.arange(0, 2 * self.CHUNK, 2)\n",
    "        xf = np.linspace(0, self.RATE, self.CHUNK)\n",
    "\n",
    "        # create matplotlib figure and axes\n",
    "        self.fig, (ax1, ax2) = plt.subplots(2, figsize=(15, 9))\n",
    "        self.fig.canvas.mpl_connect('button_press_event', self.onClick)\n",
    "\n",
    "        # create a line object with random data\n",
    "        self.line, = ax1.plot(x, np.random.rand(self.CHUNK), '-', lw=2)\n",
    "\n",
    "        # create semilogx line for spectrum\n",
    "        self.line_fft, = ax2.semilogx(\n",
    "            xf, np.random.rand(self.CHUNK), '-', lw=2)\n",
    "        \n",
    "\n",
    "        # format waveform axes\n",
    "        ax1.set_title('AUDIO WAVEFORM')\n",
    "        ax1.set_xlabel('samples')\n",
    "        ax1.set_ylabel('volume')\n",
    "        ax1.set_ylim(0, 3000)\n",
    "        ax1.set_xlim(0, 2 * self.CHUNK)\n",
    "        plt.setp(\n",
    "            ax1, yticks=[0, 128, 255],\n",
    "            xticks=[0, self.CHUNK, 2 * self.CHUNK],\n",
    "        )\n",
    "        plt.setp(ax2, yticks=[0, 1],)\n",
    "\n",
    "        # format spectrum axes\n",
    "        ax2.set_xlim(20, self.RATE / 2)\n",
    "\n",
    "        # show axes\n",
    "        thismanager = plt.get_current_fig_manager()\n",
    "#         thismanager.window.setGeometry(5, 120, 1910, 1070)\n",
    "        plt.show(block=False)\n",
    "\n",
    "    def start_plot(self):\n",
    "\n",
    "        print('stream started')\n",
    "        frame_count = 0\n",
    "        start_time = time.time()\n",
    "        try:\n",
    "            while not self.pause:\n",
    "                data = self.sample(self.CHUNK)\n",
    "                data_int = data\n",
    "                data_np = data\n",
    "\n",
    "                self.line.set_ydata(data_np)\n",
    "\n",
    "                # compute FFT and update line\n",
    "                yf = fft(data_int)\n",
    "                self.line_fft.set_ydata(\n",
    "                    np.abs(yf[0:self.CHUNK]) / (128 * self.CHUNK))\n",
    "\n",
    "                # update figure canvas\n",
    "                self.fig.canvas.draw()\n",
    "                self.fig.canvas.flush_events()\n",
    "                frame_count += 1\n",
    "        except:\n",
    "            self.fr = frame_count / (time.time() - start_time)\n",
    "            ser.close()\n",
    "            print('average frame rate = {:.0f} FPS'.format(self.fr))\n",
    "            self.exit_app()\n",
    "\n",
    "    def exit_app(self):\n",
    "        print('stream closed')\n",
    "        self.p.close(self.stream)\n",
    "\n",
    "    def onClick(self, event):\n",
    "        self.pause = True\n",
    "    \n",
    "    def sample(self, size):\n",
    "        i = 0\n",
    "        data = []\n",
    "        while i < size:\n",
    "            data.append(int(ser.readline()))\n",
    "            i += 1\n",
    "        return data"
   ]
  },
  {
   "cell_type": "code",
   "execution_count": 127,
   "metadata": {},
   "outputs": [
    {
     "name": "stdout",
     "output_type": "stream",
     "text": [
      "stream started\n",
      "average frame rate = 0 FPS\n",
      "stream closed\n"
     ]
    },
    {
     "data": {
      "text/plain": [
       "<__main__.SerialStream at 0x192d294b588>"
      ]
     },
     "execution_count": 127,
     "metadata": {},
     "output_type": "execute_result"
    }
   ],
   "source": [
    "SerialStream()"
   ]
  },
  {
   "cell_type": "code",
   "execution_count": 128,
   "metadata": {},
   "outputs": [],
   "source": [
    "ser = serial.Serial('COM12', 115200)"
   ]
  },
  {
   "cell_type": "code",
   "execution_count": 129,
   "metadata": {
    "collapsed": true
   },
   "outputs": [],
   "source": [
    "def sample():\n",
    "    i = 0\n",
    "    data = []\n",
    "    while i < 256:\n",
    "        data.append(int(ser.readline()))\n",
    "        i += 1\n",
    "    return data\n",
    "\n"
   ]
  },
  {
   "cell_type": "code",
   "execution_count": 130,
   "metadata": {
    "collapsed": true
   },
   "outputs": [],
   "source": [
    "ser.close()"
   ]
  },
  {
   "cell_type": "code",
   "execution_count": 144,
   "metadata": {},
   "outputs": [],
   "source": [
    "ser = serial.Serial('COM11', 115200)\n",
    "fig, (ax1, ax2) = plt.subplots(2, figsize=(15, 7))\n",
    "x = np.arange(0, 256)\n",
    "x_fft = np.linspace(0, 1000, 256)\n",
    "line, = ax1.plot(x, np.random.rand(256), '-', lw=2)\n",
    "line_fft, = ax2.plot(x_fft, np.random.rand(256), '-', lw=2)\n",
    "ax1.set_ylim(0, 2000)\n",
    "ax1.set_xlim(0, 255)\n",
    "ax2.set_ylim(0, 1000)\n",
    "ax2.set_xlim(1, 256)\n",
    "try:\n",
    "    while True:\n",
    "        data = np.array(sample())\n",
    "        line.set_ydata(data)\n",
    "        y_fft = fft(data)\n",
    "        line_fft.set_ydata(np.abs(y_fft)[0:256] * 2/256)\n",
    "        fig.canvas.draw()\n",
    "        fig.canvas.flush_events()\n",
    "except:\n",
    "    ser.close()"
   ]
  },
  {
   "cell_type": "code",
   "execution_count": 132,
   "metadata": {},
   "outputs": [
    {
     "ename": "SerialException",
     "evalue": "Attempting to use a port that is not open",
     "output_type": "error",
     "traceback": [
      "\u001b[1;31m---------------------------------------------------------------------------\u001b[0m",
      "\u001b[1;31mSerialException\u001b[0m                           Traceback (most recent call last)",
      "\u001b[1;32m<ipython-input-132-43beb4c4dc25>\u001b[0m in \u001b[0;36m<module>\u001b[1;34m()\u001b[0m\n\u001b[1;32m----> 1\u001b[1;33m \u001b[0mprint\u001b[0m\u001b[1;33m(\u001b[0m\u001b[0msample\u001b[0m\u001b[1;33m(\u001b[0m\u001b[1;33m)\u001b[0m\u001b[1;33m)\u001b[0m\u001b[1;33m\u001b[0m\u001b[0m\n\u001b[0m",
      "\u001b[1;32m<ipython-input-129-9b654183362d>\u001b[0m in \u001b[0;36msample\u001b[1;34m()\u001b[0m\n\u001b[0;32m      3\u001b[0m     \u001b[0mdata\u001b[0m \u001b[1;33m=\u001b[0m \u001b[1;33m[\u001b[0m\u001b[1;33m]\u001b[0m\u001b[1;33m\u001b[0m\u001b[0m\n\u001b[0;32m      4\u001b[0m     \u001b[1;32mwhile\u001b[0m \u001b[0mi\u001b[0m \u001b[1;33m<\u001b[0m \u001b[1;36m256\u001b[0m\u001b[1;33m:\u001b[0m\u001b[1;33m\u001b[0m\u001b[0m\n\u001b[1;32m----> 5\u001b[1;33m         \u001b[0mdata\u001b[0m\u001b[1;33m.\u001b[0m\u001b[0mappend\u001b[0m\u001b[1;33m(\u001b[0m\u001b[0mfloat\u001b[0m\u001b[1;33m(\u001b[0m\u001b[0mser\u001b[0m\u001b[1;33m.\u001b[0m\u001b[0mreadline\u001b[0m\u001b[1;33m(\u001b[0m\u001b[1;33m)\u001b[0m\u001b[1;33m)\u001b[0m\u001b[1;33m)\u001b[0m\u001b[1;33m\u001b[0m\u001b[0m\n\u001b[0m\u001b[0;32m      6\u001b[0m         \u001b[0mi\u001b[0m \u001b[1;33m+=\u001b[0m \u001b[1;36m1\u001b[0m\u001b[1;33m\u001b[0m\u001b[0m\n\u001b[0;32m      7\u001b[0m     \u001b[1;32mreturn\u001b[0m \u001b[0mdata\u001b[0m\u001b[1;33m\u001b[0m\u001b[0m\n",
      "\u001b[1;32mC:\\ProgramData\\Anaconda3\\lib\\site-packages\\serial\\serialwin32.py\u001b[0m in \u001b[0;36mread\u001b[1;34m(self, size)\u001b[0m\n\u001b[0;32m    265\u001b[0m         \"\"\"\n\u001b[0;32m    266\u001b[0m         \u001b[1;32mif\u001b[0m \u001b[1;32mnot\u001b[0m \u001b[0mself\u001b[0m\u001b[1;33m.\u001b[0m\u001b[0mis_open\u001b[0m\u001b[1;33m:\u001b[0m\u001b[1;33m\u001b[0m\u001b[0m\n\u001b[1;32m--> 267\u001b[1;33m             \u001b[1;32mraise\u001b[0m \u001b[0mportNotOpenError\u001b[0m\u001b[1;33m\u001b[0m\u001b[0m\n\u001b[0m\u001b[0;32m    268\u001b[0m         \u001b[1;32mif\u001b[0m \u001b[0msize\u001b[0m \u001b[1;33m>\u001b[0m \u001b[1;36m0\u001b[0m\u001b[1;33m:\u001b[0m\u001b[1;33m\u001b[0m\u001b[0m\n\u001b[0;32m    269\u001b[0m             \u001b[0mwin32\u001b[0m\u001b[1;33m.\u001b[0m\u001b[0mResetEvent\u001b[0m\u001b[1;33m(\u001b[0m\u001b[0mself\u001b[0m\u001b[1;33m.\u001b[0m\u001b[0m_overlapped_read\u001b[0m\u001b[1;33m.\u001b[0m\u001b[0mhEvent\u001b[0m\u001b[1;33m)\u001b[0m\u001b[1;33m\u001b[0m\u001b[0m\n",
      "\u001b[1;31mSerialException\u001b[0m: Attempting to use a port that is not open"
     ]
    }
   ],
   "source": [
    "print(sample())"
   ]
  },
  {
   "cell_type": "code",
   "execution_count": 143,
   "metadata": {},
   "outputs": [
    {
     "name": "stdout",
     "output_type": "stream",
     "text": [
      "[169.0, 183.0, 203.0, 223.0, 239.0, 247.0, 246.0, 235.0, 217.0, 196.0, 178.0, 167.0, 165.0, 174.0, 191.0, 211.0, 230.0, 243.0, 248.0, 242.0, 229.0, 209.0, 189.0, 173.0, 165.0, 167.0, 178.0, 197.0, 218.0, 235.0, 246.0, 247.0, 239.0, 222.0, 202.0, 182.0, 169.0, 164.0, 170.0, 185.0, 205.0, 225.0, 240.0, 247.0, 245.0, 233.0, 215.0, 194.0, 176.0, 166.0, 166.0, 175.0, 192.0, 213.0, 232.0, 244.0, 247.0, 241.0, 226.0, 207.0, 187.0, 171.0, 165.0, 168.0, 181.0, 200.0, 220.0, 237.0, 246.0, 246.0, 237.0, 220.0, 199.0, 180.0, 168.0, 165.0, 172.0, 188.0, 208.0, 228.0, 242.0, 247.0, 244.0, 231.0, 212.0, 192.0, 175.0, 166.0, 166.0, 177.0, 195.0, 215.0, 233.0, 245.0, 247.0, 240.0, 225.0, 205.0, 185.0, 170.0, 165.0, 169.0, 183.0, 202.0, 222.0, 239.0, 247.0, 246.0, 235.0, 217.0, 197.0, 179.0, 167.0, 165.0, 173.0, 190.0, 210.0, 230.0, 243.0, 248.0, 243.0, 229.0, 210.0, 190.0, 173.0, 165.0, 167.0, 179.0, 197.0, 218.0, 236.0, 246.0, 247.0, 239.0, 222.0, 202.0, 182.0, 169.0, 164.0, 170.0, 185.0, 205.0, 225.0, 240.0, 247.0, 245.0, 233.0, 215.0, 194.0, 176.0, 166.0, 166.0, 175.0, 192.0, 213.0, 231.0, 244.0, 248.0, 242.0, 227.0, 207.0, 187.0, 172.0, 165.0, 168.0, 181.0, 200.0, 220.0, 237.0, 246.0, 246.0, 237.0, 220.0, 199.0, 180.0, 168.0, 165.0, 172.0, 188.0, 208.0, 227.0, 242.0, 248.0, 244.0, 231.0, 212.0, 191.0, 175.0, 166.0, 166.0, 177.0, 195.0, 215.0, 234.0, 245.0, 247.0, 240.0, 224.0, 204.0, 185.0, 170.0, 164.0, 169.0, 183.0, 203.0, 223.0, 239.0, 247.0, 246.0, 235.0, 217.0, 196.0, 178.0, 167.0, 165.0, 173.0, 190.0, 210.0, 230.0, 243.0, 248.0, 243.0, 229.0, 209.0, 189.0, 173.0, 165.0, 167.0, 179.0, 197.0, 218.0, 235.0, 246.0, 247.0, 239.0, 222.0, 202.0, 183.0, 169.0, 164.0, 170.0, 185.0, 205.0, 225.0, 240.0, 248.0, 245.0, 233.0, 215.0, 194.0, 177.0, 166.0, 166.0, 175.0, 192.0, 213.0]\n"
     ]
    }
   ],
   "source": [
    "ser.close()\n",
    "ser = serial.Serial('COM11', 115200)\n",
    "data = sample()\n",
    "print(data)\n",
    "ser.close()"
   ]
  },
  {
   "cell_type": "code",
   "execution_count": null,
   "metadata": {
    "collapsed": true
   },
   "outputs": [],
   "source": []
  }
 ],
 "metadata": {
  "kernelspec": {
   "display_name": "Python 3",
   "language": "python",
   "name": "python3"
  },
  "language_info": {
   "codemirror_mode": {
    "name": "ipython",
    "version": 3
   },
   "file_extension": ".py",
   "mimetype": "text/x-python",
   "name": "python",
   "nbconvert_exporter": "python",
   "pygments_lexer": "ipython3",
   "version": "3.6.3"
  }
 },
 "nbformat": 4,
 "nbformat_minor": 2
}
